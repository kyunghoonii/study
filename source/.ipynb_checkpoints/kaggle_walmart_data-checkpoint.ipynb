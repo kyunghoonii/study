{
 "cells": [
  {
   "cell_type": "markdown",
   "metadata": {},
   "source": [
    "# Import"
   ]
  },
  {
   "cell_type": "code",
   "execution_count": 72,
   "metadata": {
    "ExecuteTime": {
     "end_time": "2020-08-01T02:34:49.218376Z",
     "start_time": "2020-08-01T02:34:44.036079Z"
    }
   },
   "outputs": [],
   "source": [
    "import pandas as pd\n",
    "import numpy as np\n",
    "from sklearn.datasets import load_iris, load_boston\n",
    "from sklearn.ensemble import (GradientBoostingRegressor, RandomForestRegressor, VotingRegressor)\n",
    "from sklearn.linear_model import Ridge\n",
    "from xgboost import XGBRegressor\n",
    "from lightgbm import LGBMRegressor\n",
    "from sklearn.metrics import (explained_variance_score, mean_absolute_error,\n",
    "                             mean_squared_error, r2_score)\n",
    "from sklearn.model_selection import (cross_validate,train_test_split)\n",
    "from sklearn.neural_network import MLPRegressor\n",
    "from sklearn.preprocessing import MinMaxScaler\n",
    "from fbprophet import Prophet\n",
    "import util\n",
    "import matplotlib.pyplot as plt\n",
    "import pmdarima as pm"
   ]
  },
  {
   "cell_type": "code",
   "execution_count": 59,
   "metadata": {
    "ExecuteTime": {
     "end_time": "2020-08-01T02:28:35.401357Z",
     "start_time": "2020-08-01T02:28:35.214884Z"
    }
   },
   "outputs": [
    {
     "name": "stdout",
     "output_type": "stream",
     "text": [
      "The autoreload extension is already loaded. To reload it, use:\n",
      "  %reload_ext autoreload\n"
     ]
    }
   ],
   "source": [
    "%load_ext autoreload\n",
    "%autoreload 2"
   ]
  },
  {
   "cell_type": "markdown",
   "metadata": {},
   "source": [
    "# Data prep"
   ]
  },
  {
   "cell_type": "code",
   "execution_count": 3,
   "metadata": {
    "ExecuteTime": {
     "end_time": "2020-08-01T02:17:06.388312Z",
     "start_time": "2020-08-01T02:17:05.104623Z"
    }
   },
   "outputs": [],
   "source": [
    "train = pd.read_csv('../data/train.csv')\n",
    "test  = pd.read_csv('../data/test.csv')\n",
    "features = pd.read_csv('../data/features.csv')"
   ]
  },
  {
   "cell_type": "markdown",
   "metadata": {},
   "source": [
    "## Store = 1 / Dept = 1"
   ]
  },
  {
   "cell_type": "code",
   "execution_count": 4,
   "metadata": {
    "ExecuteTime": {
     "end_time": "2020-08-01T02:17:07.162242Z",
     "start_time": "2020-08-01T02:17:06.973747Z"
    }
   },
   "outputs": [],
   "source": [
    "train.rename(columns={'Date':'ds','Weekly_Sales':'y'},inplace=True)\n",
    "test.rename(columns={'Date':'ds'},inplace=True)"
   ]
  },
  {
   "cell_type": "code",
   "execution_count": 5,
   "metadata": {
    "ExecuteTime": {
     "end_time": "2020-08-01T02:17:07.908272Z",
     "start_time": "2020-08-01T02:17:07.723741Z"
    }
   },
   "outputs": [],
   "source": [
    "train2 = train[train['Store']==1]\n",
    "train2 = train2[train2['Dept']==1]\n",
    "train2 = train2.sort_values('ds')"
   ]
  },
  {
   "cell_type": "code",
   "execution_count": 6,
   "metadata": {
    "ExecuteTime": {
     "end_time": "2020-08-01T02:17:08.738165Z",
     "start_time": "2020-08-01T02:17:08.476727Z"
    }
   },
   "outputs": [
    {
     "data": {
      "text/html": [
       "<div>\n",
       "<style scoped>\n",
       "    .dataframe tbody tr th:only-of-type {\n",
       "        vertical-align: middle;\n",
       "    }\n",
       "\n",
       "    .dataframe tbody tr th {\n",
       "        vertical-align: top;\n",
       "    }\n",
       "\n",
       "    .dataframe thead th {\n",
       "        text-align: right;\n",
       "    }\n",
       "</style>\n",
       "<table border=\"1\" class=\"dataframe\">\n",
       "  <thead>\n",
       "    <tr style=\"text-align: right;\">\n",
       "      <th></th>\n",
       "      <th>Store</th>\n",
       "      <th>Dept</th>\n",
       "      <th>ds</th>\n",
       "      <th>y</th>\n",
       "      <th>IsHoliday</th>\n",
       "    </tr>\n",
       "    <tr>\n",
       "      <th>ts_idx</th>\n",
       "      <th></th>\n",
       "      <th></th>\n",
       "      <th></th>\n",
       "      <th></th>\n",
       "      <th></th>\n",
       "    </tr>\n",
       "  </thead>\n",
       "  <tbody>\n",
       "    <tr>\n",
       "      <th>2010-02-05</th>\n",
       "      <td>1</td>\n",
       "      <td>1</td>\n",
       "      <td>2010-02-05</td>\n",
       "      <td>24924.50</td>\n",
       "      <td>False</td>\n",
       "    </tr>\n",
       "    <tr>\n",
       "      <th>2010-02-12</th>\n",
       "      <td>1</td>\n",
       "      <td>1</td>\n",
       "      <td>2010-02-12</td>\n",
       "      <td>46039.49</td>\n",
       "      <td>True</td>\n",
       "    </tr>\n",
       "    <tr>\n",
       "      <th>2010-02-19</th>\n",
       "      <td>1</td>\n",
       "      <td>1</td>\n",
       "      <td>2010-02-19</td>\n",
       "      <td>41595.55</td>\n",
       "      <td>False</td>\n",
       "    </tr>\n",
       "    <tr>\n",
       "      <th>2010-02-26</th>\n",
       "      <td>1</td>\n",
       "      <td>1</td>\n",
       "      <td>2010-02-26</td>\n",
       "      <td>19403.54</td>\n",
       "      <td>False</td>\n",
       "    </tr>\n",
       "    <tr>\n",
       "      <th>2010-03-05</th>\n",
       "      <td>1</td>\n",
       "      <td>1</td>\n",
       "      <td>2010-03-05</td>\n",
       "      <td>21827.90</td>\n",
       "      <td>False</td>\n",
       "    </tr>\n",
       "    <tr>\n",
       "      <th>...</th>\n",
       "      <td>...</td>\n",
       "      <td>...</td>\n",
       "      <td>...</td>\n",
       "      <td>...</td>\n",
       "      <td>...</td>\n",
       "    </tr>\n",
       "    <tr>\n",
       "      <th>2012-09-28</th>\n",
       "      <td>1</td>\n",
       "      <td>1</td>\n",
       "      <td>2012-09-28</td>\n",
       "      <td>18947.81</td>\n",
       "      <td>False</td>\n",
       "    </tr>\n",
       "    <tr>\n",
       "      <th>2012-10-05</th>\n",
       "      <td>1</td>\n",
       "      <td>1</td>\n",
       "      <td>2012-10-05</td>\n",
       "      <td>21904.47</td>\n",
       "      <td>False</td>\n",
       "    </tr>\n",
       "    <tr>\n",
       "      <th>2012-10-12</th>\n",
       "      <td>1</td>\n",
       "      <td>1</td>\n",
       "      <td>2012-10-12</td>\n",
       "      <td>22764.01</td>\n",
       "      <td>False</td>\n",
       "    </tr>\n",
       "    <tr>\n",
       "      <th>2012-10-19</th>\n",
       "      <td>1</td>\n",
       "      <td>1</td>\n",
       "      <td>2012-10-19</td>\n",
       "      <td>24185.27</td>\n",
       "      <td>False</td>\n",
       "    </tr>\n",
       "    <tr>\n",
       "      <th>2012-10-26</th>\n",
       "      <td>1</td>\n",
       "      <td>1</td>\n",
       "      <td>2012-10-26</td>\n",
       "      <td>27390.81</td>\n",
       "      <td>False</td>\n",
       "    </tr>\n",
       "  </tbody>\n",
       "</table>\n",
       "<p>143 rows × 5 columns</p>\n",
       "</div>"
      ],
      "text/plain": [
       "            Store  Dept         ds         y  IsHoliday\n",
       "ts_idx                                                 \n",
       "2010-02-05      1     1 2010-02-05  24924.50      False\n",
       "2010-02-12      1     1 2010-02-12  46039.49       True\n",
       "2010-02-19      1     1 2010-02-19  41595.55      False\n",
       "2010-02-26      1     1 2010-02-26  19403.54      False\n",
       "2010-03-05      1     1 2010-03-05  21827.90      False\n",
       "...           ...   ...        ...       ...        ...\n",
       "2012-09-28      1     1 2012-09-28  18947.81      False\n",
       "2012-10-05      1     1 2012-10-05  21904.47      False\n",
       "2012-10-12      1     1 2012-10-12  22764.01      False\n",
       "2012-10-19      1     1 2012-10-19  24185.27      False\n",
       "2012-10-26      1     1 2012-10-26  27390.81      False\n",
       "\n",
       "[143 rows x 5 columns]"
      ]
     },
     "execution_count": 6,
     "metadata": {},
     "output_type": "execute_result"
    }
   ],
   "source": [
    "train2['ds'] = pd.to_datetime(train2['ds'])\n",
    "train2['ts_idx'] = train2['ds']\n",
    "train2.set_index('ts_idx',inplace=True)\n",
    "train2"
   ]
  },
  {
   "cell_type": "code",
   "execution_count": 7,
   "metadata": {
    "ExecuteTime": {
     "end_time": "2020-08-01T02:17:09.509078Z",
     "start_time": "2020-08-01T02:17:09.330556Z"
    }
   },
   "outputs": [],
   "source": [
    "features = features[features['Store']==1]\n",
    "features = features.fillna(0)\n",
    "features.rename(columns={'Date':'ds'},inplace=True)\n",
    "features.drop(columns=['Store'],inplace=True)"
   ]
  },
  {
   "cell_type": "code",
   "execution_count": 8,
   "metadata": {
    "ExecuteTime": {
     "end_time": "2020-08-01T02:17:10.264084Z",
     "start_time": "2020-08-01T02:17:10.085537Z"
    }
   },
   "outputs": [],
   "source": [
    "features['ds'] = pd.to_datetime(features['ds'])\n",
    "features['ts_idx'] = features['ds']\n",
    "features.set_index('ts_idx',inplace=True)\n",
    "features['IsHoliday'] = features['IsHoliday'].astype(int)"
   ]
  },
  {
   "cell_type": "code",
   "execution_count": 9,
   "metadata": {
    "ExecuteTime": {
     "end_time": "2020-08-01T02:17:10.996127Z",
     "start_time": "2020-08-01T02:17:10.824560Z"
    }
   },
   "outputs": [],
   "source": [
    "feature_cols = features.columns.to_list()\n",
    "feature_cols.remove('ds')"
   ]
  },
  {
   "cell_type": "code",
   "execution_count": 10,
   "metadata": {
    "ExecuteTime": {
     "end_time": "2020-08-01T02:17:12.452799Z",
     "start_time": "2020-08-01T02:17:11.567573Z"
    }
   },
   "outputs": [
    {
     "data": {
      "text/plain": [
       "<matplotlib.axes._subplots.AxesSubplot at 0x22ae4783bc8>"
      ]
     },
     "execution_count": 10,
     "metadata": {},
     "output_type": "execute_result"
    },
    {
     "data": {
      "image/png": "[encoded data removed]",
      "text/plain": [
       "<Figure size 1080x288 with 1 Axes>"
      ]
     },
     "metadata": {
      "needs_background": "light"
     },
     "output_type": "display_data"
    }
   ],
   "source": [
    "util.plot_sample(train2,'y')"
   ]
  },
  {
   "cell_type": "code",
   "execution_count": 11,
   "metadata": {
    "ExecuteTime": {
     "end_time": "2020-08-01T02:17:13.214786Z",
     "start_time": "2020-08-01T02:17:13.033271Z"
    }
   },
   "outputs": [],
   "source": [
    "train2.drop(columns=['Store','Dept','IsHoliday'],inplace=True)"
   ]
  },
  {
   "cell_type": "code",
   "execution_count": 12,
   "metadata": {
    "ExecuteTime": {
     "end_time": "2020-08-01T02:17:13.969746Z",
     "start_time": "2020-08-01T02:17:13.787230Z"
    }
   },
   "outputs": [],
   "source": [
    "for i in feature_cols:\n",
    "    train2[i] = features[i]"
   ]
  },
  {
   "cell_type": "code",
   "execution_count": 13,
   "metadata": {
    "ExecuteTime": {
     "end_time": "2020-08-01T02:17:14.726801Z",
     "start_time": "2020-08-01T02:17:14.551247Z"
    }
   },
   "outputs": [],
   "source": [
    "train_col = train2.columns.to_list()\n",
    "train_col.remove('ds')\n",
    "train_col.remove('y')"
   ]
  },
  {
   "cell_type": "code",
   "execution_count": 14,
   "metadata": {
    "ExecuteTime": {
     "end_time": "2020-08-01T02:17:15.495746Z",
     "start_time": "2020-08-01T02:17:15.310217Z"
    }
   },
   "outputs": [],
   "source": [
    "df_X = train2[train_col]\n",
    "df_y = train2['y']"
   ]
  },
  {
   "cell_type": "code",
   "execution_count": 15,
   "metadata": {
    "ExecuteTime": {
     "end_time": "2020-08-01T02:17:16.279543Z",
     "start_time": "2020-08-01T02:17:16.100104Z"
    }
   },
   "outputs": [],
   "source": [
    "split_point = int(train2.shape[0]*0.8)\n",
    "df_X_train = df_X[:split_point]\n",
    "df_X_test  = df_X[split_point:]\n",
    "df_y_train = df_y[:split_point]\n",
    "df_y_test  = df_y[split_point:]"
   ]
  },
  {
   "cell_type": "code",
   "execution_count": 16,
   "metadata": {
    "ExecuteTime": {
     "end_time": "2020-08-01T02:17:17.095360Z",
     "start_time": "2020-08-01T02:17:16.917836Z"
    }
   },
   "outputs": [
    {
     "data": {
      "text/plain": [
       "((114, 10), (29, 10))"
      ]
     },
     "execution_count": 16,
     "metadata": {},
     "output_type": "execute_result"
    }
   ],
   "source": [
    "df_X_train.shape, df_X_test.shape"
   ]
  },
  {
   "cell_type": "markdown",
   "metadata": {},
   "source": [
    "## Scaling"
   ]
  },
  {
   "cell_type": "code",
   "execution_count": 19,
   "metadata": {
    "ExecuteTime": {
     "end_time": "2020-08-01T02:17:19.557031Z",
     "start_time": "2020-08-01T02:17:19.381474Z"
    }
   },
   "outputs": [],
   "source": [
    "scaler_x = MinMaxScaler()\n",
    "scaler_y = MinMaxScaler()"
   ]
  },
  {
   "cell_type": "code",
   "execution_count": 20,
   "metadata": {
    "ExecuteTime": {
     "end_time": "2020-08-01T02:17:20.373101Z",
     "start_time": "2020-08-01T02:17:20.195552Z"
    }
   },
   "outputs": [],
   "source": [
    "x_train_scaled = scaler_x.fit_transform(df_X_train.to_numpy())\n",
    "x_test_scaled  = scaler_x.fit_transform(df_X_test.to_numpy())\n",
    "y_train_scaled = scaler_y.fit_transform(df_y_train.to_frame().to_numpy())\n",
    "y_test_scaled  = scaler_y.fit_transform(df_y_test.to_frame().to_numpy())"
   ]
  },
  {
   "cell_type": "markdown",
   "metadata": {},
   "source": [
    "# Models"
   ]
  },
  {
   "cell_type": "markdown",
   "metadata": {},
   "source": [
    "## Prophet"
   ]
  },
  {
   "cell_type": "code",
   "execution_count": 36,
   "metadata": {
    "ExecuteTime": {
     "end_time": "2020-08-01T02:20:41.241897Z",
     "start_time": "2020-08-01T02:20:41.049965Z"
    }
   },
   "outputs": [],
   "source": [
    "prophet_df = train2[['ds','y']].copy()\n",
    "prophet_df_train = prophet_df[:split_point]\n",
    "prophet_df_test = prophet_df[split_point:]\n",
    "prophet_df_train['y'] = y_train_scaled\n",
    "prophet_df_test['y'] = y_test_scaled"
   ]
  },
  {
   "cell_type": "code",
   "execution_count": 42,
   "metadata": {
    "ExecuteTime": {
     "end_time": "2020-08-01T02:21:49.626587Z",
     "start_time": "2020-08-01T02:21:49.439088Z"
    }
   },
   "outputs": [],
   "source": [
    "m_prophet = Prophet()"
   ]
  },
  {
   "cell_type": "code",
   "execution_count": 43,
   "metadata": {
    "ExecuteTime": {
     "end_time": "2020-08-01T02:21:50.571356Z",
     "start_time": "2020-08-01T02:21:50.334932Z"
    }
   },
   "outputs": [
    {
     "name": "stderr",
     "output_type": "stream",
     "text": [
      "INFO:fbprophet:Disabling weekly seasonality. Run prophet with weekly_seasonality=True to override this.\n",
      "INFO:fbprophet:Disabling daily seasonality. Run prophet with daily_seasonality=True to override this.\n"
     ]
    },
    {
     "data": {
      "text/plain": [
       "<fbprophet.forecaster.Prophet at 0x22afff36908>"
      ]
     },
     "execution_count": 43,
     "metadata": {},
     "output_type": "execute_result"
    }
   ],
   "source": [
    "m_prophet.fit(prophet_df_train)"
   ]
  },
  {
   "cell_type": "code",
   "execution_count": 44,
   "metadata": {
    "ExecuteTime": {
     "end_time": "2020-08-01T02:21:53.717211Z",
     "start_time": "2020-08-01T02:21:52.197171Z"
    }
   },
   "outputs": [],
   "source": [
    "forecast = m_prophet.predict(prophet_df_test)"
   ]
  },
  {
   "cell_type": "code",
   "execution_count": 45,
   "metadata": {
    "ExecuteTime": {
     "end_time": "2020-08-01T02:21:54.623548Z",
     "start_time": "2020-08-01T02:21:54.430254Z"
    }
   },
   "outputs": [],
   "source": [
    "forecast = forecast[['ds','yhat']]\n",
    "forecast.rename(columns={'yhat':'y'},inplace=True)\n",
    "forecast.set_index('ds',inplace=True)"
   ]
  },
  {
   "cell_type": "code",
   "execution_count": 46,
   "metadata": {
    "ExecuteTime": {
     "end_time": "2020-08-01T02:21:55.669929Z",
     "start_time": "2020-08-01T02:21:55.337818Z"
    }
   },
   "outputs": [
    {
     "data": {
      "image/png": "[encoded data removed]",
      "text/plain": [
       "<Figure size 1080x288 with 1 Axes>"
      ]
     },
     "metadata": {
      "needs_background": "light"
     },
     "output_type": "display_data"
    }
   ],
   "source": [
    "util.plot_comparison(prophet_df_train, prophet_df_test, forecast)"
   ]
  },
  {
   "cell_type": "markdown",
   "metadata": {},
   "source": [
    "## Arima"
   ]
  },
  {
   "cell_type": "code",
   "execution_count": 47,
   "metadata": {
    "ExecuteTime": {
     "end_time": "2020-08-01T02:23:31.000262Z",
     "start_time": "2020-08-01T02:22:03.805996Z"
    }
   },
   "outputs": [
    {
     "name": "stderr",
     "output_type": "stream",
     "text": [
      "C:\\anaconda\\lib\\site-packages\\pmdarima\\arima\\auto.py:303: UserWarning: stepwise model cannot be fit in parallel (n_jobs=1). Falling back to stepwise parameter search.\n",
      "  'Falling back to stepwise parameter search.' % n_jobs)\n",
      "C:\\anaconda\\lib\\site-packages\\statsmodels\\tsa\\statespace\\sarimax.py:868: UserWarning: Too few observations to estimate starting parameters for seasonal ARMA. All parameters except for variances will be set to zeros.\n",
      "  ' zeros.' % warning_description)\n",
      "C:\\anaconda\\lib\\site-packages\\statsmodels\\base\\model.py:568: ConvergenceWarning: Maximum Likelihood optimization failed to converge. Check mle_retvals\n",
      "  \"Check mle_retvals\", ConvergenceWarning)\n",
      "C:\\anaconda\\lib\\site-packages\\statsmodels\\tsa\\statespace\\sarimax.py:868: UserWarning: Too few observations to estimate starting parameters for seasonal ARMA. All parameters except for variances will be set to zeros.\n",
      "  ' zeros.' % warning_description)\n",
      "C:\\anaconda\\lib\\site-packages\\statsmodels\\tsa\\statespace\\sarimax.py:868: UserWarning: Too few observations to estimate starting parameters for seasonal ARMA. All parameters except for variances will be set to zeros.\n",
      "  ' zeros.' % warning_description)\n",
      "C:\\anaconda\\lib\\site-packages\\statsmodels\\tsa\\statespace\\sarimax.py:994: UserWarning: Non-stationary starting seasonal autoregressive Using zeros as starting parameters.\n",
      "  warn('Non-stationary starting seasonal autoregressive'\n",
      "C:\\anaconda\\lib\\site-packages\\statsmodels\\tsa\\statespace\\sarimax.py:868: UserWarning: Too few observations to estimate starting parameters for seasonal ARMA. All parameters except for variances will be set to zeros.\n",
      "  ' zeros.' % warning_description)\n",
      "C:\\anaconda\\lib\\site-packages\\statsmodels\\tsa\\statespace\\sarimax.py:994: UserWarning: Non-stationary starting seasonal autoregressive Using zeros as starting parameters.\n",
      "  warn('Non-stationary starting seasonal autoregressive'\n",
      "C:\\anaconda\\lib\\site-packages\\statsmodels\\tsa\\statespace\\sarimax.py:868: UserWarning: Too few observations to estimate starting parameters for seasonal ARMA. All parameters except for variances will be set to zeros.\n",
      "  ' zeros.' % warning_description)\n",
      "C:\\anaconda\\lib\\site-packages\\statsmodels\\tsa\\statespace\\sarimax.py:868: UserWarning: Too few observations to estimate starting parameters for seasonal ARMA. All parameters except for variances will be set to zeros.\n",
      "  ' zeros.' % warning_description)\n",
      "C:\\anaconda\\lib\\site-packages\\statsmodels\\tsa\\statespace\\sarimax.py:868: UserWarning: Too few observations to estimate starting parameters for seasonal ARMA. All parameters except for variances will be set to zeros.\n",
      "  ' zeros.' % warning_description)\n"
     ]
    }
   ],
   "source": [
    "PERIOD=52\n",
    "m_arima = pm.auto_arima(\n",
    "        y=y_train_scaled,\n",
    "        exogenous=None,\n",
    "        start_p=2,\n",
    "        d=None,\n",
    "        start_q=2,\n",
    "        max_p=5,\n",
    "        max_d=2,\n",
    "        max_q=5,\n",
    "        start_P=1,\n",
    "        D=None,\n",
    "        start_Q=1,\n",
    "        max_P=2,\n",
    "        max_D=1,\n",
    "        max_Q=2,\n",
    "        max_order=5,\n",
    "        m=PERIOD,  # default: 1, The period for seasonal differencing\n",
    "        seasonal=True,\n",
    "        stationary=False,\n",
    "        information_criterion='aic',\n",
    "        alpha=0.05,\n",
    "        test='kpss',\n",
    "        seasonal_test='ocsb',\n",
    "    # --------------------\n",
    "    # stepwise : bool, optional (default=True)\n",
    "    #     Whether to use the stepwise algorithm outlined in Hyndman and Khandakar\n",
    "    #     (2008) to identify the optimal model parameters. The stepwise algorithm\n",
    "    #     can be significantly faster than fitting all (or a ``random`` subset\n",
    "    #     of) hyper-parameter combinations and is less likely to over-fit\n",
    "    #     the model\n",
    "    # for random search; stepwise=False, n_jobs=-1, random=True\n",
    "        maxiter=500, # default 50\n",
    "        n_jobs=-1, # Default is 1, but -1 can be used to designate \"as many as possible\"\n",
    "        stepwise=True,\n",
    "        random=False, # default: False, random search\n",
    "        n_fits=10,   # default: 10, If ``random`` is True and a \"random search\" is going to be performed, ``n_iter`` is the number of ARIMA models to be fit.\n",
    "    # --------------------\n",
    "        start_params=None,\n",
    "        trend=None,\n",
    "        method='lbfgs',\n",
    "        offset_test_args=None,\n",
    "        seasonal_test_args=None,\n",
    "        suppress_warnings=False,\n",
    "        error_action='warn',\n",
    "        trace=False,\n",
    "        random_state=0,  # default: None\n",
    "        return_valid_fits=False,\n",
    "        out_of_sample_size=0,\n",
    "        scoring='mse',\n",
    "        scoring_args=None,\n",
    "        with_intercept=True,\n",
    "        sarimax_kwargs=None,\n",
    "    )"
   ]
  },
  {
   "cell_type": "code",
   "execution_count": 48,
   "metadata": {
    "ExecuteTime": {
     "end_time": "2020-08-01T02:23:32.293471Z",
     "start_time": "2020-08-01T02:23:31.734231Z"
    }
   },
   "outputs": [
    {
     "data": {
      "image/png": "[encoded data removed]",
      "text/plain": [
       "<Figure size 1080x720 with 4 Axes>"
      ]
     },
     "metadata": {
      "needs_background": "light"
     },
     "output_type": "display_data"
    }
   ],
   "source": [
    "fig = m_arima.plot_diagnostics(figsize=(15,10))"
   ]
  },
  {
   "cell_type": "code",
   "execution_count": 49,
   "metadata": {
    "ExecuteTime": {
     "end_time": "2020-08-01T02:23:33.177046Z",
     "start_time": "2020-08-01T02:23:32.988542Z"
    }
   },
   "outputs": [],
   "source": [
    "y_pred_arima = m_arima.predict(n_periods=y_test_scaled.shape[0])"
   ]
  },
  {
   "cell_type": "code",
   "execution_count": 50,
   "metadata": {
    "ExecuteTime": {
     "end_time": "2020-08-01T02:23:34.094069Z",
     "start_time": "2020-08-01T02:23:33.896284Z"
    }
   },
   "outputs": [
    {
     "data": {
      "text/plain": [
       "array([0.81825663, 0.70265854, 0.34197159, 0.02267033, 0.06147755,\n",
       "       0.09694473, 0.12479116, 0.12405052, 0.1005381 , 0.07972079,\n",
       "       0.08997617, 0.08841236, 0.10204505, 0.09549128, 0.09666233,\n",
       "       0.09835125, 0.08904376, 0.07815218, 0.08042371, 0.07831074,\n",
       "       0.08900948, 0.12464236, 0.13601012, 0.1262397 , 0.13314729,\n",
       "       0.16866488, 0.20158335, 0.20554314, 0.3243308 ])"
      ]
     },
     "execution_count": 50,
     "metadata": {},
     "output_type": "execute_result"
    }
   ],
   "source": [
    "y_pred_arima"
   ]
  },
  {
   "cell_type": "code",
   "execution_count": 83,
   "metadata": {
    "ExecuteTime": {
     "end_time": "2020-08-01T10:01:25.116732Z",
     "start_time": "2020-08-01T10:01:23.573532Z"
    }
   },
   "outputs": [],
   "source": [
    "result = forecast.copy()\n",
    "result.rename(columns={'y':'prophet'},inplace=True)"
   ]
  },
  {
   "cell_type": "code",
   "execution_count": 84,
   "metadata": {
    "ExecuteTime": {
     "end_time": "2020-08-01T10:01:26.256707Z",
     "start_time": "2020-08-01T10:01:26.052229Z"
    }
   },
   "outputs": [],
   "source": [
    "result['arima'] = y_pred_arima"
   ]
  },
  {
   "cell_type": "code",
   "execution_count": 86,
   "metadata": {
    "ExecuteTime": {
     "end_time": "2020-08-01T10:01:45.047758Z",
     "start_time": "2020-08-01T10:01:44.819349Z"
    }
   },
   "outputs": [],
   "source": [
    "result['test'] = y_test_scaled"
   ]
  },
  {
   "cell_type": "markdown",
   "metadata": {},
   "source": [
    "## RandomForest"
   ]
  },
  {
   "cell_type": "code",
   "execution_count": 54,
   "metadata": {
    "ExecuteTime": {
     "end_time": "2020-08-01T02:27:22.606530Z",
     "start_time": "2020-08-01T02:27:22.415037Z"
    }
   },
   "outputs": [],
   "source": [
    "# ?RandomForestRegressor\n",
    "m_rf = RandomForestRegressor(n_estimators=1000,\n",
    "                              criterion='mse',\n",
    "                              max_depth=None,\n",
    "                              min_samples_split=2,\n",
    "                              min_samples_leaf=1,\n",
    "                              min_weight_fraction_leaf=0.,\n",
    "                              max_features='auto',\n",
    "                              random_state=0)"
   ]
  },
  {
   "cell_type": "code",
   "execution_count": 55,
   "metadata": {
    "ExecuteTime": {
     "end_time": "2020-08-01T02:27:38.749292Z",
     "start_time": "2020-08-01T02:27:37.640010Z"
    }
   },
   "outputs": [
    {
     "name": "stderr",
     "output_type": "stream",
     "text": [
      "C:\\anaconda\\lib\\site-packages\\ipykernel_launcher.py:1: DataConversionWarning: A column-vector y was passed when a 1d array was expected. Please change the shape of y to (n_samples,), for example using ravel().\n",
      "  \"\"\"Entry point for launching an IPython kernel.\n"
     ]
    }
   ],
   "source": [
    "_ = m_rf.fit(x_train_scaled, y_train_scaled)"
   ]
  },
  {
   "cell_type": "code",
   "execution_count": 61,
   "metadata": {
    "ExecuteTime": {
     "end_time": "2020-08-01T02:29:00.515863Z",
     "start_time": "2020-08-01T02:29:00.278863Z"
    }
   },
   "outputs": [
    {
     "name": "stdout",
     "output_type": "stream",
     "text": [
      "Variable: Temperature          Importance: 0.45\n",
      "Variable: Fuel_Price           Importance: 0.17\n",
      "Variable: CPI                  Importance: 0.17\n",
      "Variable: Unemployment         Importance: 0.06\n",
      "Variable: MarkDown4            Importance: 0.05\n",
      "Variable: MarkDown2            Importance: 0.03\n",
      "Variable: MarkDown3            Importance: 0.03\n",
      "Variable: MarkDown1            Importance: 0.01\n",
      "Variable: MarkDown5            Importance: 0.01\n",
      "Variable: IsHoliday            Importance: 0.01\n"
     ]
    }
   ],
   "source": [
    "util.report_feature_importance(feature_cols, m_rf.feature_importances_)"
   ]
  },
  {
   "cell_type": "markdown",
   "metadata": {},
   "source": [
    "## GradientBoost"
   ]
  },
  {
   "cell_type": "code",
   "execution_count": 63,
   "metadata": {
    "ExecuteTime": {
     "end_time": "2020-08-01T02:30:59.661411Z",
     "start_time": "2020-08-01T02:30:59.473905Z"
    }
   },
   "outputs": [],
   "source": [
    "# ?GradientBoostingRegressor\n",
    "m_gb = GradientBoostingRegressor(\n",
    "    loss='ls',\n",
    "    learning_rate=0.001,  #default 0.1\n",
    "    n_estimators=1000,  #default 100\n",
    "    subsample=1.0,\n",
    "    criterion='friedman_mse',\n",
    "    min_samples_split=2,\n",
    "    min_samples_leaf=1,\n",
    "    min_weight_fraction_leaf=0.0,\n",
    "    max_depth=3,\n",
    "    min_impurity_decrease=0.0,\n",
    "    min_impurity_split=None,\n",
    "    init=None,\n",
    "    random_state=0,\n",
    "    max_features=None,\n",
    "    alpha=0.9,\n",
    "    verbose=0,\n",
    "    max_leaf_nodes=None,\n",
    "    warm_start=False,\n",
    "    presort='deprecated',\n",
    "    validation_fraction=0.1,\n",
    "    n_iter_no_change=None,\n",
    "    tol=0.0001,\n",
    "    ccp_alpha=0.0,\n",
    ")"
   ]
  },
  {
   "cell_type": "code",
   "execution_count": 64,
   "metadata": {
    "ExecuteTime": {
     "end_time": "2020-08-01T02:31:10.807520Z",
     "start_time": "2020-08-01T02:31:10.367110Z"
    }
   },
   "outputs": [
    {
     "name": "stderr",
     "output_type": "stream",
     "text": [
      "C:\\anaconda\\lib\\site-packages\\sklearn\\ensemble\\_gb.py:1454: DataConversionWarning: A column-vector y was passed when a 1d array was expected. Please change the shape of y to (n_samples, ), for example using ravel().\n",
      "  y = column_or_1d(y, warn=True)\n"
     ]
    }
   ],
   "source": [
    "_ = m_gb.fit(x_train_scaled, y_train_scaled)"
   ]
  },
  {
   "cell_type": "code",
   "execution_count": 66,
   "metadata": {
    "ExecuteTime": {
     "end_time": "2020-08-01T02:31:37.667913Z",
     "start_time": "2020-08-01T02:31:37.472461Z"
    }
   },
   "outputs": [
    {
     "name": "stdout",
     "output_type": "stream",
     "text": [
      "Variable: Temperature          Importance: 0.6\n",
      "Variable: CPI                  Importance: 0.14\n",
      "Variable: Fuel_Price           Importance: 0.08\n",
      "Variable: MarkDown4            Importance: 0.06\n",
      "Variable: Unemployment         Importance: 0.05\n",
      "Variable: MarkDown5            Importance: 0.04\n",
      "Variable: MarkDown2            Importance: 0.02\n",
      "Variable: MarkDown3            Importance: 0.01\n",
      "Variable: MarkDown1            Importance: 0.0\n",
      "Variable: IsHoliday            Importance: 0.0\n"
     ]
    }
   ],
   "source": [
    "util.report_feature_importance(feature_cols, m_gb.feature_importances_)"
   ]
  },
  {
   "cell_type": "markdown",
   "metadata": {},
   "source": [
    "## XGBoost"
   ]
  },
  {
   "cell_type": "code",
   "execution_count": 74,
   "metadata": {
    "ExecuteTime": {
     "end_time": "2020-08-01T02:36:41.155114Z",
     "start_time": "2020-08-01T02:36:40.946632Z"
    }
   },
   "outputs": [],
   "source": [
    "# ?XGBRegressor\n",
    "m_xgb = XGBRegressor(\n",
    "    max_depth=6,  #default 3\n",
    "    learning_rate=0.001,  #default 0.1\n",
    "    n_estimators=1000,  #default 100\n",
    "    verbosity=1,\n",
    "    objective='reg:squarederror',\n",
    "    booster='gbtree',\n",
    "    n_jobs=5,  #default 1\n",
    "    gamma=0,\n",
    "    min_child_weight=1,\n",
    "    max_delta_step=0,\n",
    "    subsample=1,\n",
    "    colsample_bytree=1,\n",
    "    colsample_bylevel=1,\n",
    "    colsample_bynode=1,\n",
    "    reg_alpha=0,\n",
    "    reg_lambda=1,\n",
    "    scale_pos_weight=1,\n",
    "    base_score=0.5,\n",
    "    random_state=0,\n",
    "    missing=None,\n",
    "    importance_type='gain',\n",
    ")"
   ]
  },
  {
   "cell_type": "code",
   "execution_count": 75,
   "metadata": {
    "ExecuteTime": {
     "end_time": "2020-08-01T02:36:52.738648Z",
     "start_time": "2020-08-01T02:36:51.966829Z"
    }
   },
   "outputs": [],
   "source": [
    "_ = m_xgb.fit(x_train_scaled, y_train_scaled)"
   ]
  },
  {
   "cell_type": "markdown",
   "metadata": {},
   "source": [
    "## LGBM"
   ]
  },
  {
   "cell_type": "code",
   "execution_count": 76,
   "metadata": {
    "ExecuteTime": {
     "end_time": "2020-08-01T02:36:55.040900Z",
     "start_time": "2020-08-01T02:36:54.830435Z"
    }
   },
   "outputs": [],
   "source": [
    "# ?LGBMRegressor\n",
    "m_lgbm = LGBMRegressor(\n",
    "    boosting_type='gbdt',\n",
    "    num_leaves=31,\n",
    "    max_depth=-1,\n",
    "    learning_rate=0.001,  #default 0.1\n",
    "    n_estimators=1000,  #default 100\n",
    "    subsample_for_bin=200000,\n",
    "    objective=None,\n",
    "    class_weight=None,\n",
    "    min_split_gain=0.0,\n",
    "    min_child_weight=0.001,\n",
    "    min_child_samples=20,\n",
    "    subsample=1.0,\n",
    "    subsample_freq=0,\n",
    "    colsample_bytree=1.0,\n",
    "    reg_alpha=0.0,\n",
    "    reg_lambda=0.0,\n",
    "    random_state=0,\n",
    "    n_jobs=-1,\n",
    "    silent=True,\n",
    "    importance_type='split',\n",
    ")"
   ]
  },
  {
   "cell_type": "code",
   "execution_count": 77,
   "metadata": {
    "ExecuteTime": {
     "end_time": "2020-08-01T02:37:07.892038Z",
     "start_time": "2020-08-01T02:37:07.617700Z"
    }
   },
   "outputs": [
    {
     "name": "stderr",
     "output_type": "stream",
     "text": [
      "C:\\anaconda\\lib\\site-packages\\sklearn\\utils\\validation.py:760: DataConversionWarning: A column-vector y was passed when a 1d array was expected. Please change the shape of y to (n_samples, ), for example using ravel().\n",
      "  y = column_or_1d(y, warn=True)\n"
     ]
    }
   ],
   "source": [
    "_ = m_lgbm.fit(x_train_scaled, y_train_scaled)"
   ]
  },
  {
   "cell_type": "markdown",
   "metadata": {},
   "source": [
    "## VotingRegressor"
   ]
  },
  {
   "cell_type": "code",
   "execution_count": 80,
   "metadata": {
    "ExecuteTime": {
     "end_time": "2020-08-01T02:38:30.030959Z",
     "start_time": "2020-08-01T02:38:29.820839Z"
    }
   },
   "outputs": [],
   "source": [
    "regressors = [\n",
    "    ('rf', m_rf),\n",
    "    ('gb', m_gb),\n",
    "    ('xgb', m_xgb),\n",
    "    ('lgbm', m_lgbm),\n",
    "]"
   ]
  },
  {
   "cell_type": "code",
   "execution_count": 82,
   "metadata": {
    "ExecuteTime": {
     "end_time": "2020-08-01T02:38:56.673546Z",
     "start_time": "2020-08-01T02:38:55.028617Z"
    }
   },
   "outputs": [
    {
     "name": "stderr",
     "output_type": "stream",
     "text": [
      "C:\\anaconda\\lib\\site-packages\\sklearn\\ensemble\\_voting.py:406: DataConversionWarning: A column-vector y was passed when a 1d array was expected. Please change the shape of y to (n_samples, ), for example using ravel().\n",
      "  y = column_or_1d(y, warn=True)\n"
     ]
    }
   ],
   "source": [
    "m_vr1 = VotingRegressor(estimators=regressors)\n",
    "_ = m_vr1.fit(x_train_scaled, y_train_scaled)"
   ]
  },
  {
   "cell_type": "markdown",
   "metadata": {},
   "source": [
    "## Ridge"
   ]
  },
  {
   "cell_type": "code",
   "execution_count": 78,
   "metadata": {
    "ExecuteTime": {
     "end_time": "2020-08-01T02:37:58.346060Z",
     "start_time": "2020-08-01T02:37:58.132631Z"
    }
   },
   "outputs": [],
   "source": [
    "m_rg = Ridge(random_state=0)"
   ]
  },
  {
   "cell_type": "code",
   "execution_count": 79,
   "metadata": {
    "ExecuteTime": {
     "end_time": "2020-08-01T02:38:07.791582Z",
     "start_time": "2020-08-01T02:38:07.585134Z"
    }
   },
   "outputs": [],
   "source": [
    "_ = m_rg.fit(x_train_scaled, y_train_scaled)"
   ]
  },
  {
   "cell_type": "code",
   "execution_count": null,
   "metadata": {},
   "outputs": [],
   "source": []
  }
 ],
 "metadata": {
  "hide_input": false,
  "kernelspec": {
   "display_name": "Python 3",
   "language": "python",
   "name": "python3"
  },
  "language_info": {
   "codemirror_mode": {
    "name": "ipython",
    "version": 3
   },
   "file_extension": ".py",
   "mimetype": "text/x-python",
   "name": "python",
   "nbconvert_exporter": "python",
   "pygments_lexer": "ipython3",
   "version": "3.7.6"
  },
  "toc": {
   "base_numbering": 1,
   "nav_menu": {},
   "number_sections": true,
   "sideBar": true,
   "skip_h1_title": false,
   "title_cell": "Table of Contents",
   "title_sidebar": "Contents",
   "toc_cell": false,
   "toc_position": {
    "height": "calc(100% - 180px)",
    "left": "10px",
    "top": "150px",
    "width": "377.391px"
   },
   "toc_section_display": true,
   "toc_window_display": true
  },
  "varInspector": {
   "cols": {
    "lenName": 16,
    "lenType": 16,
    "lenVar": 40
   },
   "kernels_config": {
    "python": {
     "delete_cmd_postfix": "",
     "delete_cmd_prefix": "del ",
     "library": "var_list.py",
     "varRefreshCmd": "print(var_dic_list())"
    },
    "r": {
     "delete_cmd_postfix": ") ",
     "delete_cmd_prefix": "rm(",
     "library": "var_list.r",
     "varRefreshCmd": "cat(var_dic_list()) "
    }
   },
   "types_to_exclude": [
    "module",
    "function",
    "builtin_function_or_method",
    "instance",
    "_Feature"
   ],
   "window_display": false
  }
 },
 "nbformat": 4,
 "nbformat_minor": 4
}
